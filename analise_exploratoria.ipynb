{
 "cells": [
  {
   "cell_type": "code",
   "execution_count": 3,
   "metadata": {},
   "outputs": [],
   "source": [
    "import pandas as pd"
   ]
  },
  {
   "cell_type": "code",
   "execution_count": 4,
   "metadata": {},
   "outputs": [
    {
     "name": "stderr",
     "output_type": "stream",
     "text": [
      "/tmp/ipykernel_20563/342330906.py:1: DtypeWarning: Columns (47) have mixed types. Specify dtype option on import or set low_memory=False.\n",
      "  df = pd.read_csv(\"/home/paula-eduarda-de-lima/Documentos/5_Período/VIS/T4/State of Data 2021 - Dataset - Pgina1.csv\")\n"
     ]
    }
   ],
   "source": [
    "df = pd.read_csv(\"/home/paula-eduarda-de-lima/Documentos/5_Período/VIS/T4/State of Data 2021 - Dataset - Pgina1.csv\")"
   ]
  },
  {
   "cell_type": "code",
   "execution_count": 6,
   "metadata": {},
   "outputs": [
    {
     "data": {
      "text/plain": [
       "Index(['('P0', 'id')', '('P1_a ', 'Idade')', '('P1_a_a ', 'Faixa idade')',\n",
       "       '('P1_b ', 'Genero')', '('P1_e ', 'Estado onde mora')',\n",
       "       '('P1_e_a ', 'uf onde mora')', '('P1_e_b ', 'Regiao onde mora')',\n",
       "       '('P1_g_b ', 'Regiao de origem')', '('P1_g_c ', 'Mudou de Estado?')',\n",
       "       '('P1_h ', 'Nivel de Ensino')',\n",
       "       ...\n",
       "       '('P8_d_g ', 'Criando e dando manutenção em ETLs, DAGs e automações de pipelines de dados.')',\n",
       "       '('P8_d_h ', 'Criando e gerenciando soluções de Feature Store e cultura de MLOps.')',\n",
       "       '('P8_d_i ', 'Criando e mantendo a infra que meus modelos e soluções rodam (clusters, servidores, API, containers, etc.)')',\n",
       "       '('P9_a ', 'Quais das iniciativas do Data Hackers que você já acessou/acompanhou?')',\n",
       "       '('P9_a_a ', 'Blog/Medium do Data Hackers')',\n",
       "       '('P9_a_b ', 'Podcast do Data Hackers')',\n",
       "       '('P9_a_d ', 'Newsletter Semanal')', '('P9_a_e ', 'Canal do Slack')',\n",
       "       '('P9_a_f ', 'Canal do Youtube do Data Hackers')',\n",
       "       '('P9_a_g ', 'Ainda não conhecia o Data Hackers')'],\n",
       "      dtype='object', length=356)"
      ]
     },
     "execution_count": 6,
     "metadata": {},
     "output_type": "execute_result"
    }
   ],
   "source": [
    "df.columns"
   ]
  },
  {
   "cell_type": "code",
   "execution_count": null,
   "metadata": {},
   "outputs": [],
   "source": []
  }
 ],
 "metadata": {
  "kernelspec": {
   "display_name": ".venv",
   "language": "python",
   "name": "python3"
  },
  "language_info": {
   "codemirror_mode": {
    "name": "ipython",
    "version": 3
   },
   "file_extension": ".py",
   "mimetype": "text/x-python",
   "name": "python",
   "nbconvert_exporter": "python",
   "pygments_lexer": "ipython3",
   "version": "3.12.3"
  }
 },
 "nbformat": 4,
 "nbformat_minor": 2
}
